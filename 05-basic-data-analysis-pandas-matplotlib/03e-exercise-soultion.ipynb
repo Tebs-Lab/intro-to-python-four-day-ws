{
 "cells": [
  {
   "cell_type": "markdown",
   "metadata": {},
   "source": [
    "# Exercise Solution: Exploring Data With Jupyter, Pandas, and Matplotlib\n",
    "\n",
    "\n",
    "## Fact Finding:\n",
    "\n",
    "Find the answer to each of these questions:\n",
    "\n",
    "* What was the most expensive property sold in the dataset?\n",
    "* How many sales were for less than $10\n",
    "    * How could this possibly be right? (Hint: read the data documentation on Kaggle...)\n",
    "* How many of the properties sold were built prior to 1950?\n",
    "* What is the smallest gross square feet property sold?\n",
    "    * What was the largest?\n",
    "* Which zip code had the fewest number of sales?\n"
   ]
  },
  {
   "cell_type": "code",
   "execution_count": 1,
   "metadata": {},
   "outputs": [],
   "source": [
    "# Before we can start, we should import the libraries we're going to use\n",
    "import pandas as pd\n",
    "import matplotlib.pyplot as plt\n",
    "import numpy as np"
   ]
  },
  {
   "cell_type": "code",
   "execution_count": 2,
   "metadata": {},
   "outputs": [
    {
     "data": {
      "text/html": [
       "<div>\n",
       "<style scoped>\n",
       "    .dataframe tbody tr th:only-of-type {\n",
       "        vertical-align: middle;\n",
       "    }\n",
       "\n",
       "    .dataframe tbody tr th {\n",
       "        vertical-align: top;\n",
       "    }\n",
       "\n",
       "    .dataframe thead th {\n",
       "        text-align: right;\n",
       "    }\n",
       "</style>\n",
       "<table border=\"1\" class=\"dataframe\">\n",
       "  <thead>\n",
       "    <tr style=\"text-align: right;\">\n",
       "      <th></th>\n",
       "      <th>Unnamed: 0</th>\n",
       "      <th>BOROUGH</th>\n",
       "      <th>NEIGHBORHOOD</th>\n",
       "      <th>BUILDING CLASS CATEGORY</th>\n",
       "      <th>TAX CLASS AT PRESENT</th>\n",
       "      <th>BLOCK</th>\n",
       "      <th>LOT</th>\n",
       "      <th>EASE-MENT</th>\n",
       "      <th>BUILDING CLASS AT PRESENT</th>\n",
       "      <th>ADDRESS</th>\n",
       "      <th>...</th>\n",
       "      <th>RESIDENTIAL UNITS</th>\n",
       "      <th>COMMERCIAL UNITS</th>\n",
       "      <th>TOTAL UNITS</th>\n",
       "      <th>LAND SQUARE FEET</th>\n",
       "      <th>GROSS SQUARE FEET</th>\n",
       "      <th>YEAR BUILT</th>\n",
       "      <th>TAX CLASS AT TIME OF SALE</th>\n",
       "      <th>BUILDING CLASS AT TIME OF SALE</th>\n",
       "      <th>SALE PRICE</th>\n",
       "      <th>SALE DATE</th>\n",
       "    </tr>\n",
       "  </thead>\n",
       "  <tbody>\n",
       "    <tr>\n",
       "      <th>0</th>\n",
       "      <td>4</td>\n",
       "      <td>1</td>\n",
       "      <td>ALPHABET CITY</td>\n",
       "      <td>07 RENTALS - WALKUP APARTMENTS</td>\n",
       "      <td>2A</td>\n",
       "      <td>392</td>\n",
       "      <td>6</td>\n",
       "      <td></td>\n",
       "      <td>C2</td>\n",
       "      <td>153 AVENUE B</td>\n",
       "      <td>...</td>\n",
       "      <td>5</td>\n",
       "      <td>0</td>\n",
       "      <td>5</td>\n",
       "      <td>1633</td>\n",
       "      <td>6440</td>\n",
       "      <td>1900</td>\n",
       "      <td>2</td>\n",
       "      <td>C2</td>\n",
       "      <td>6625000</td>\n",
       "      <td>2017-07-19 00:00:00</td>\n",
       "    </tr>\n",
       "    <tr>\n",
       "      <th>1</th>\n",
       "      <td>5</td>\n",
       "      <td>1</td>\n",
       "      <td>ALPHABET CITY</td>\n",
       "      <td>07 RENTALS - WALKUP APARTMENTS</td>\n",
       "      <td>2</td>\n",
       "      <td>399</td>\n",
       "      <td>26</td>\n",
       "      <td></td>\n",
       "      <td>C7</td>\n",
       "      <td>234 EAST 4TH   STREET</td>\n",
       "      <td>...</td>\n",
       "      <td>28</td>\n",
       "      <td>3</td>\n",
       "      <td>31</td>\n",
       "      <td>4616</td>\n",
       "      <td>18690</td>\n",
       "      <td>1900</td>\n",
       "      <td>2</td>\n",
       "      <td>C7</td>\n",
       "      <td>-</td>\n",
       "      <td>2016-12-14 00:00:00</td>\n",
       "    </tr>\n",
       "    <tr>\n",
       "      <th>2</th>\n",
       "      <td>6</td>\n",
       "      <td>1</td>\n",
       "      <td>ALPHABET CITY</td>\n",
       "      <td>07 RENTALS - WALKUP APARTMENTS</td>\n",
       "      <td>2</td>\n",
       "      <td>399</td>\n",
       "      <td>39</td>\n",
       "      <td></td>\n",
       "      <td>C7</td>\n",
       "      <td>197 EAST 3RD   STREET</td>\n",
       "      <td>...</td>\n",
       "      <td>16</td>\n",
       "      <td>1</td>\n",
       "      <td>17</td>\n",
       "      <td>2212</td>\n",
       "      <td>7803</td>\n",
       "      <td>1900</td>\n",
       "      <td>2</td>\n",
       "      <td>C7</td>\n",
       "      <td>-</td>\n",
       "      <td>2016-12-09 00:00:00</td>\n",
       "    </tr>\n",
       "    <tr>\n",
       "      <th>3</th>\n",
       "      <td>7</td>\n",
       "      <td>1</td>\n",
       "      <td>ALPHABET CITY</td>\n",
       "      <td>07 RENTALS - WALKUP APARTMENTS</td>\n",
       "      <td>2B</td>\n",
       "      <td>402</td>\n",
       "      <td>21</td>\n",
       "      <td></td>\n",
       "      <td>C4</td>\n",
       "      <td>154 EAST 7TH STREET</td>\n",
       "      <td>...</td>\n",
       "      <td>10</td>\n",
       "      <td>0</td>\n",
       "      <td>10</td>\n",
       "      <td>2272</td>\n",
       "      <td>6794</td>\n",
       "      <td>1913</td>\n",
       "      <td>2</td>\n",
       "      <td>C4</td>\n",
       "      <td>3936272</td>\n",
       "      <td>2016-09-23 00:00:00</td>\n",
       "    </tr>\n",
       "    <tr>\n",
       "      <th>4</th>\n",
       "      <td>8</td>\n",
       "      <td>1</td>\n",
       "      <td>ALPHABET CITY</td>\n",
       "      <td>07 RENTALS - WALKUP APARTMENTS</td>\n",
       "      <td>2A</td>\n",
       "      <td>404</td>\n",
       "      <td>55</td>\n",
       "      <td></td>\n",
       "      <td>C2</td>\n",
       "      <td>301 EAST 10TH   STREET</td>\n",
       "      <td>...</td>\n",
       "      <td>6</td>\n",
       "      <td>0</td>\n",
       "      <td>6</td>\n",
       "      <td>2369</td>\n",
       "      <td>4615</td>\n",
       "      <td>1900</td>\n",
       "      <td>2</td>\n",
       "      <td>C2</td>\n",
       "      <td>8000000</td>\n",
       "      <td>2016-11-17 00:00:00</td>\n",
       "    </tr>\n",
       "  </tbody>\n",
       "</table>\n",
       "<p>5 rows × 22 columns</p>\n",
       "</div>"
      ],
      "text/plain": [
       "   Unnamed: 0  BOROUGH   NEIGHBORHOOD  \\\n",
       "0           4        1  ALPHABET CITY   \n",
       "1           5        1  ALPHABET CITY   \n",
       "2           6        1  ALPHABET CITY   \n",
       "3           7        1  ALPHABET CITY   \n",
       "4           8        1  ALPHABET CITY   \n",
       "\n",
       "                       BUILDING CLASS CATEGORY TAX CLASS AT PRESENT  BLOCK  \\\n",
       "0  07 RENTALS - WALKUP APARTMENTS                                2A    392   \n",
       "1  07 RENTALS - WALKUP APARTMENTS                                 2    399   \n",
       "2  07 RENTALS - WALKUP APARTMENTS                                 2    399   \n",
       "3  07 RENTALS - WALKUP APARTMENTS                                2B    402   \n",
       "4  07 RENTALS - WALKUP APARTMENTS                                2A    404   \n",
       "\n",
       "   LOT EASE-MENT BUILDING CLASS AT PRESENT                 ADDRESS  ...  \\\n",
       "0    6                                  C2            153 AVENUE B  ...   \n",
       "1   26                                  C7   234 EAST 4TH   STREET  ...   \n",
       "2   39                                  C7   197 EAST 3RD   STREET  ...   \n",
       "3   21                                  C4     154 EAST 7TH STREET  ...   \n",
       "4   55                                  C2  301 EAST 10TH   STREET  ...   \n",
       "\n",
       "  RESIDENTIAL UNITS  COMMERCIAL UNITS  TOTAL UNITS  LAND SQUARE FEET  \\\n",
       "0                 5                 0            5              1633   \n",
       "1                28                 3           31              4616   \n",
       "2                16                 1           17              2212   \n",
       "3                10                 0           10              2272   \n",
       "4                 6                 0            6              2369   \n",
       "\n",
       "   GROSS SQUARE FEET YEAR BUILT TAX CLASS AT TIME OF SALE  \\\n",
       "0               6440       1900                         2   \n",
       "1              18690       1900                         2   \n",
       "2               7803       1900                         2   \n",
       "3               6794       1913                         2   \n",
       "4               4615       1900                         2   \n",
       "\n",
       "   BUILDING CLASS AT TIME OF SALE  SALE PRICE            SALE DATE  \n",
       "0                              C2     6625000  2017-07-19 00:00:00  \n",
       "1                              C7         -    2016-12-14 00:00:00  \n",
       "2                              C7         -    2016-12-09 00:00:00  \n",
       "3                              C4     3936272  2016-09-23 00:00:00  \n",
       "4                              C2     8000000  2016-11-17 00:00:00  \n",
       "\n",
       "[5 rows x 22 columns]"
      ]
     },
     "execution_count": 2,
     "metadata": {},
     "output_type": "execute_result"
    }
   ],
   "source": [
    "# Then load the data\n",
    "path_to_ny_sales = 'nyc-property-data/nyc-rolling-sales.csv'\n",
    "sales_df = pd.read_csv(path_to_ny_sales)\n",
    "sales_df.head()"
   ]
  },
  {
   "cell_type": "code",
   "execution_count": 3,
   "metadata": {},
   "outputs": [
    {
     "data": {
      "text/html": [
       "<div>\n",
       "<style scoped>\n",
       "    .dataframe tbody tr th:only-of-type {\n",
       "        vertical-align: middle;\n",
       "    }\n",
       "\n",
       "    .dataframe tbody tr th {\n",
       "        vertical-align: top;\n",
       "    }\n",
       "\n",
       "    .dataframe thead th {\n",
       "        text-align: right;\n",
       "    }\n",
       "</style>\n",
       "<table border=\"1\" class=\"dataframe\">\n",
       "  <thead>\n",
       "    <tr style=\"text-align: right;\">\n",
       "      <th></th>\n",
       "      <th>Unnamed: 0</th>\n",
       "      <th>BOROUGH</th>\n",
       "      <th>BLOCK</th>\n",
       "      <th>LOT</th>\n",
       "      <th>ZIP CODE</th>\n",
       "      <th>RESIDENTIAL UNITS</th>\n",
       "      <th>COMMERCIAL UNITS</th>\n",
       "      <th>TOTAL UNITS</th>\n",
       "      <th>LAND SQUARE FEET</th>\n",
       "      <th>GROSS SQUARE FEET</th>\n",
       "      <th>YEAR BUILT</th>\n",
       "      <th>TAX CLASS AT TIME OF SALE</th>\n",
       "      <th>SALE PRICE</th>\n",
       "    </tr>\n",
       "  </thead>\n",
       "  <tbody>\n",
       "    <tr>\n",
       "      <th>count</th>\n",
       "      <td>48244.000000</td>\n",
       "      <td>48244.000000</td>\n",
       "      <td>48244.000000</td>\n",
       "      <td>48244.000000</td>\n",
       "      <td>48244.000000</td>\n",
       "      <td>48244.000000</td>\n",
       "      <td>48244.000000</td>\n",
       "      <td>48244.000000</td>\n",
       "      <td>4.824400e+04</td>\n",
       "      <td>4.824400e+04</td>\n",
       "      <td>48244.000000</td>\n",
       "      <td>48244.000000</td>\n",
       "      <td>4.824400e+04</td>\n",
       "    </tr>\n",
       "    <tr>\n",
       "      <th>mean</th>\n",
       "      <td>10448.940511</td>\n",
       "      <td>3.251741</td>\n",
       "      <td>4984.532191</td>\n",
       "      <td>234.324662</td>\n",
       "      <td>10939.681328</td>\n",
       "      <td>2.566537</td>\n",
       "      <td>0.249171</td>\n",
       "      <td>2.834632</td>\n",
       "      <td>3.358117e+03</td>\n",
       "      <td>3.669753e+03</td>\n",
       "      <td>1827.765173</td>\n",
       "      <td>1.475769</td>\n",
       "      <td>1.153281e+06</td>\n",
       "    </tr>\n",
       "    <tr>\n",
       "      <th>std</th>\n",
       "      <td>7574.416359</td>\n",
       "      <td>0.903136</td>\n",
       "      <td>3427.418090</td>\n",
       "      <td>496.361521</td>\n",
       "      <td>1072.752086</td>\n",
       "      <td>17.465481</td>\n",
       "      <td>10.988072</td>\n",
       "      <td>20.750418</td>\n",
       "      <td>3.143590e+04</td>\n",
       "      <td>2.947491e+04</td>\n",
       "      <td>464.361153</td>\n",
       "      <td>0.833589</td>\n",
       "      <td>1.340131e+07</td>\n",
       "    </tr>\n",
       "    <tr>\n",
       "      <th>min</th>\n",
       "      <td>4.000000</td>\n",
       "      <td>1.000000</td>\n",
       "      <td>1.000000</td>\n",
       "      <td>1.000000</td>\n",
       "      <td>0.000000</td>\n",
       "      <td>0.000000</td>\n",
       "      <td>0.000000</td>\n",
       "      <td>0.000000</td>\n",
       "      <td>0.000000e+00</td>\n",
       "      <td>0.000000e+00</td>\n",
       "      <td>0.000000</td>\n",
       "      <td>1.000000</td>\n",
       "      <td>0.000000e+00</td>\n",
       "    </tr>\n",
       "    <tr>\n",
       "      <th>25%</th>\n",
       "      <td>3919.750000</td>\n",
       "      <td>3.000000</td>\n",
       "      <td>2206.750000</td>\n",
       "      <td>21.000000</td>\n",
       "      <td>10469.000000</td>\n",
       "      <td>1.000000</td>\n",
       "      <td>0.000000</td>\n",
       "      <td>1.000000</td>\n",
       "      <td>1.413000e+03</td>\n",
       "      <td>8.280000e+02</td>\n",
       "      <td>1920.000000</td>\n",
       "      <td>1.000000</td>\n",
       "      <td>8.042000e+04</td>\n",
       "    </tr>\n",
       "    <tr>\n",
       "      <th>50%</th>\n",
       "      <td>8084.000000</td>\n",
       "      <td>3.000000</td>\n",
       "      <td>4660.500000</td>\n",
       "      <td>45.000000</td>\n",
       "      <td>11217.000000</td>\n",
       "      <td>1.000000</td>\n",
       "      <td>0.000000</td>\n",
       "      <td>1.000000</td>\n",
       "      <td>2.140000e+03</td>\n",
       "      <td>1.620000e+03</td>\n",
       "      <td>1931.000000</td>\n",
       "      <td>1.000000</td>\n",
       "      <td>4.800000e+05</td>\n",
       "    </tr>\n",
       "    <tr>\n",
       "      <th>75%</th>\n",
       "      <td>17160.000000</td>\n",
       "      <td>4.000000</td>\n",
       "      <td>6996.000000</td>\n",
       "      <td>94.000000</td>\n",
       "      <td>11237.000000</td>\n",
       "      <td>2.000000</td>\n",
       "      <td>0.000000</td>\n",
       "      <td>2.000000</td>\n",
       "      <td>3.071000e+03</td>\n",
       "      <td>2.520000e+03</td>\n",
       "      <td>1961.000000</td>\n",
       "      <td>2.000000</td>\n",
       "      <td>8.300000e+05</td>\n",
       "    </tr>\n",
       "    <tr>\n",
       "      <th>max</th>\n",
       "      <td>26702.000000</td>\n",
       "      <td>5.000000</td>\n",
       "      <td>16319.000000</td>\n",
       "      <td>9009.000000</td>\n",
       "      <td>11694.000000</td>\n",
       "      <td>1844.000000</td>\n",
       "      <td>2261.000000</td>\n",
       "      <td>2261.000000</td>\n",
       "      <td>4.228300e+06</td>\n",
       "      <td>3.750565e+06</td>\n",
       "      <td>2017.000000</td>\n",
       "      <td>4.000000</td>\n",
       "      <td>2.210000e+09</td>\n",
       "    </tr>\n",
       "  </tbody>\n",
       "</table>\n",
       "</div>"
      ],
      "text/plain": [
       "         Unnamed: 0       BOROUGH         BLOCK           LOT      ZIP CODE  \\\n",
       "count  48244.000000  48244.000000  48244.000000  48244.000000  48244.000000   \n",
       "mean   10448.940511      3.251741   4984.532191    234.324662  10939.681328   \n",
       "std     7574.416359      0.903136   3427.418090    496.361521   1072.752086   \n",
       "min        4.000000      1.000000      1.000000      1.000000      0.000000   \n",
       "25%     3919.750000      3.000000   2206.750000     21.000000  10469.000000   \n",
       "50%     8084.000000      3.000000   4660.500000     45.000000  11217.000000   \n",
       "75%    17160.000000      4.000000   6996.000000     94.000000  11237.000000   \n",
       "max    26702.000000      5.000000  16319.000000   9009.000000  11694.000000   \n",
       "\n",
       "       RESIDENTIAL UNITS  COMMERCIAL UNITS   TOTAL UNITS  LAND SQUARE FEET  \\\n",
       "count       48244.000000      48244.000000  48244.000000      4.824400e+04   \n",
       "mean            2.566537          0.249171      2.834632      3.358117e+03   \n",
       "std            17.465481         10.988072     20.750418      3.143590e+04   \n",
       "min             0.000000          0.000000      0.000000      0.000000e+00   \n",
       "25%             1.000000          0.000000      1.000000      1.413000e+03   \n",
       "50%             1.000000          0.000000      1.000000      2.140000e+03   \n",
       "75%             2.000000          0.000000      2.000000      3.071000e+03   \n",
       "max          1844.000000       2261.000000   2261.000000      4.228300e+06   \n",
       "\n",
       "       GROSS SQUARE FEET    YEAR BUILT  TAX CLASS AT TIME OF SALE  \\\n",
       "count       4.824400e+04  48244.000000               48244.000000   \n",
       "mean        3.669753e+03   1827.765173                   1.475769   \n",
       "std         2.947491e+04    464.361153                   0.833589   \n",
       "min         0.000000e+00      0.000000                   1.000000   \n",
       "25%         8.280000e+02   1920.000000                   1.000000   \n",
       "50%         1.620000e+03   1931.000000                   1.000000   \n",
       "75%         2.520000e+03   1961.000000                   2.000000   \n",
       "max         3.750565e+06   2017.000000                   4.000000   \n",
       "\n",
       "         SALE PRICE  \n",
       "count  4.824400e+04  \n",
       "mean   1.153281e+06  \n",
       "std    1.340131e+07  \n",
       "min    0.000000e+00  \n",
       "25%    8.042000e+04  \n",
       "50%    4.800000e+05  \n",
       "75%    8.300000e+05  \n",
       "max    2.210000e+09  "
      ]
     },
     "execution_count": 3,
     "metadata": {},
     "output_type": "execute_result"
    }
   ],
   "source": [
    "# To make things cleaner, I'm also going to drop rows that have a missing:\n",
    "# price, gross square feet, land square feet, or year built.\n",
    "\n",
    "# This code is in the example notebook\n",
    "columns_to_convert = [\n",
    "    'LAND SQUARE FEET',\n",
    "    'GROSS SQUARE FEET',\n",
    "    'SALE PRICE',\n",
    "    'YEAR BUILT'\n",
    "]\n",
    "\n",
    "for column_name in columns_to_convert:\n",
    "    sales_df[column_name] = pd.to_numeric(sales_df[column_name], errors='coerce')\n",
    "    sales_df = sales_df[sales_df[column_name].notna()]\n",
    "    \n",
    "sales_df.describe()"
   ]
  },
  {
   "cell_type": "code",
   "execution_count": 4,
   "metadata": {},
   "outputs": [
    {
     "data": {
      "text/plain": [
       "2210000000.0"
      ]
     },
     "execution_count": 4,
     "metadata": {},
     "output_type": "execute_result"
    }
   ],
   "source": [
    "# What was the most expensive property sold?\n",
    "  # Actually, we can see this in the information above from the .describe() function!\n",
    "  # Max sale price was 2.210000e+09 aka 2.21 BILLION DOLLARS!! \n",
    "# But you can also find it this way:\n",
    "sales_df['SALE PRICE'].max()\n",
    "\n",
    "# Relevant documentation: https://pandas.pydata.org/pandas-docs/stable/reference/api/pandas.DataFrame.max.html"
   ]
  },
  {
   "cell_type": "code",
   "execution_count": 5,
   "metadata": {},
   "outputs": [
    {
     "name": "stdout",
     "output_type": "stream",
     "text": [
      "30232\n"
     ]
    },
    {
     "data": {
      "text/plain": [
       "Unnamed: 0                        30232\n",
       "BOROUGH                           30232\n",
       "NEIGHBORHOOD                      30232\n",
       "BUILDING CLASS CATEGORY           30232\n",
       "TAX CLASS AT PRESENT              30232\n",
       "BLOCK                             30232\n",
       "LOT                               30232\n",
       "EASE-MENT                         30232\n",
       "BUILDING CLASS AT PRESENT         30232\n",
       "ADDRESS                           30232\n",
       "APARTMENT NUMBER                  30232\n",
       "ZIP CODE                          30232\n",
       "RESIDENTIAL UNITS                 30232\n",
       "COMMERCIAL UNITS                  30232\n",
       "TOTAL UNITS                       30232\n",
       "LAND SQUARE FEET                  30232\n",
       "GROSS SQUARE FEET                 30232\n",
       "YEAR BUILT                        30232\n",
       "TAX CLASS AT TIME OF SALE         30232\n",
       "BUILDING CLASS AT TIME OF SALE    30232\n",
       "SALE PRICE                        30232\n",
       "SALE DATE                         30232\n",
       "dtype: int64"
      ]
     },
     "execution_count": 5,
     "metadata": {},
     "output_type": "execute_result"
    }
   ],
   "source": [
    "# How many properties sold were built prior to 1950?\n",
    "# The easiest way to do this is filter the dataframe, then count the rows.\n",
    "before_1950 = sales_df[sales_df['YEAR BUILT'] < 1950]\n",
    "print(len(before_1950))\n",
    "\n",
    "# Note, you could also use the \"count\" function, though it gives more information than we need.\n",
    "  # https://pandas.pydata.org/pandas-docs/stable/reference/api/pandas.DataFrame.count.html\n",
    "before_1950.count()"
   ]
  },
  {
   "cell_type": "code",
   "execution_count": 6,
   "metadata": {},
   "outputs": [
    {
     "name": "stdout",
     "output_type": "stream",
     "text": [
      "0.0\n",
      "3750565.0\n"
     ]
    },
    {
     "data": {
      "text/plain": [
       "60.0"
      ]
     },
     "execution_count": 6,
     "metadata": {},
     "output_type": "execute_result"
    }
   ],
   "source": [
    "# Smallest and largest gross square feet\n",
    "  # Once again, this information was in the \"describe()\" output\n",
    "    # Smallest: 0 square feet (weird right?)\n",
    "    # Largest: 3.750565e+06 aka 3,750,565 square feet (HOLY S***)\n",
    "\n",
    "# Again, you could also find these values using .min() and .max() on the proper columns:\n",
    "print(sales_df['GROSS SQUARE FEET'].min())\n",
    "print(sales_df['GROSS SQUARE FEET'].max())\n",
    "\n",
    "# But, inquiring minds want to know Lets find out what the smallest non-zero property is\n",
    "# I imagine any 0 values are more likely \"missing\" than being a property that actually \n",
    "# doesn't have a size...\n",
    "non_zero_gross_sq_feet = sales_df[sales_df['GROSS SQUARE FEET'] != 0]\n",
    "non_zero_gross_sq_feet['GROSS SQUARE FEET'].min() # 60. Wow, that's a small property. "
   ]
  },
  {
   "cell_type": "code",
   "execution_count": 7,
   "metadata": {},
   "outputs": [
    {
     "name": "stdout",
     "output_type": "stream",
     "text": [
      "11201    1324\n",
      "11235    1312\n",
      "11234    1165\n",
      "11229     916\n",
      "11215     899\n",
      "         ... \n",
      "10044       1\n",
      "10006       1\n",
      "10167       1\n",
      "11005       1\n",
      "10803       1\n",
      "Name: ZIP CODE, Length: 180, dtype: int64\n"
     ]
    }
   ],
   "source": [
    "# Which zip code had the fewest number of sales?\n",
    "# The easiest way to do this is to use the .value_counts() function on the ZIP CODE column.\n",
    "# This will tell us how many times each zip code appears in the overall data.\n",
    "  # Documentation: https://pandas.pydata.org/pandas-docs/stable/reference/api/pandas.Series.value_counts.html\n",
    "\n",
    "print(sales_df['ZIP CODE'].value_counts())\n",
    "# The data is returned in sorted order based on the count.\n",
    "# So, zip code 11201 has the most sales: 1324\n",
    "# and 10803 only has 1 sale. \n",
    "# We also learned that there are 180 zip codes represented in this dataset."
   ]
  },
  {
   "cell_type": "markdown",
   "metadata": {},
   "source": [
    "## Chart Making:\n",
    "\n",
    "Create the following charts:\n",
    "\n",
    "* A barchart showing how many properties were sold in each borough.\n",
    "    * Use the data documentation to find the names of each borough rather than the 1-5 values.\n",
    "* A pie chart showing the share of sales by borough.\n",
    "    * Use the data documentation to find the names of each borough rather than the 1-5 values.\n",
    "* A barchart showing the average (mean) sale price of property in each zip code.\n",
    "* A scatterplot showing the sales price by the gross square feet.\n",
    "    * **Bonus points**: show the least squares regression line as well!"
   ]
  },
  {
   "cell_type": "code",
   "execution_count": 8,
   "metadata": {},
   "outputs": [
    {
     "data": {
      "text/plain": [
       "<AxesSubplot:>"
      ]
     },
     "execution_count": 8,
     "metadata": {},
     "output_type": "execute_result"
    },
    {
     "data": {
      "image/png": "[encoded data removed]",
      "text/plain": [
       "<Figure size 432x288 with 1 Axes>"
      ]
     },
     "metadata": {
      "needs_background": "light"
     },
     "output_type": "display_data"
    }
   ],
   "source": [
    "# A boxplot showing how many properties were sold in each borough.\n",
    "# We can use value_counts for this too:\n",
    "sales_by_borough = sales_df['BOROUGH'].value_counts()\n",
    "\n",
    "# Replace the numbered boroughs with their names:\n",
    "  # https://pandas.pydata.org/pandas-docs/stable/reference/api/pandas.DataFrame.rename.html\n",
    "sales_by_borough.rename(index={\n",
    "        1: 'Manhattan',\n",
    "        2: 'Bronx',\n",
    "        3: 'Brooklyn',\n",
    "        4: 'Queens',\n",
    "        5: 'Staten Island'\n",
    "    }, \n",
    "    inplace=True\n",
    ")\n",
    "\n",
    "# Make the plot using pandas!\n",
    "  # https://pandas.pydata.org/pandas-docs/stable/reference/api/pandas.DataFrame.plot.bar.html\n",
    "sales_by_borough.plot.bar()"
   ]
  },
  {
   "cell_type": "code",
   "execution_count": 9,
   "metadata": {},
   "outputs": [
    {
     "data": {
      "text/plain": [
       "<AxesSubplot:>"
      ]
     },
     "execution_count": 9,
     "metadata": {},
     "output_type": "execute_result"
    },
    {
     "data": {
      "image/png": "[encoded data removed]",
      "text/plain": [
       "<Figure size 432x288 with 1 Axes>"
      ]
     },
     "metadata": {
      "needs_background": "light"
     },
     "output_type": "display_data"
    }
   ],
   "source": [
    "# Alternative solution:\n",
    "sales_df['BOROUGH'].map({\n",
    "    1 : 'Manhattan',\n",
    "    2 : 'Bronx',\n",
    "    3 : 'Brooklyn',\n",
    "    4 : 'Queens',\n",
    "    5 : 'Staten Island',\n",
    "}).hist()"
   ]
  },
  {
   "cell_type": "code",
   "execution_count": 10,
   "metadata": {},
   "outputs": [
    {
     "data": {
      "text/plain": [
       "<AxesSubplot:ylabel='BOROUGH'>"
      ]
     },
     "execution_count": 10,
     "metadata": {},
     "output_type": "execute_result"
    },
    {
     "data": {
      "image/png": "[encoded data removed]",
      "text/plain": [
       "<Figure size 432x288 with 1 Axes>"
      ]
     },
     "metadata": {},
     "output_type": "display_data"
    }
   ],
   "source": [
    "# We already have the data, so a pie chart is very easy to make (as long as you know what function to use):\n",
    "  # https://pandas.pydata.org/pandas-docs/stable/reference/api/pandas.DataFrame.plot.pie.html\n",
    "sales_by_borough.plot.pie()"
   ]
  },
  {
   "cell_type": "code",
   "execution_count": 11,
   "metadata": {},
   "outputs": [
    {
     "data": {
      "text/plain": [
       "<AxesSubplot:xlabel='ZIP CODE'>"
      ]
     },
     "execution_count": 11,
     "metadata": {},
     "output_type": "execute_result"
    },
    {
     "data": {
      "image/png": "[encoded data removed]",
      "text/plain": [
       "<Figure size 7200x1440 with 1 Axes>"
      ]
     },
     "metadata": {
      "needs_background": "light"
     },
     "output_type": "display_data"
    }
   ],
   "source": [
    "# A barchart showing the average (mean) sale price of property in each zip code.\n",
    "# This one is a bit trickier... we need to group the data based on the zip code:\n",
    "  # https://pandas.pydata.org/pandas-docs/stable/reference/api/pandas.DataFrame.groupby.html\n",
    "sales_and_zip = sales_df[['ZIP CODE', 'SALE PRICE']]\n",
    "\n",
    "sales_grouped_by_zip = sales_and_zip.groupby(['ZIP CODE']).mean()\n",
    "sales_grouped_by_zip.plot.bar(figsize=(100, 20))"
   ]
  },
  {
   "cell_type": "code",
   "execution_count": 12,
   "metadata": {
    "scrolled": false
   },
   "outputs": [
    {
     "data": {
      "text/plain": [
       "<AxesSubplot:xlabel='ZIP CODE'>"
      ]
     },
     "execution_count": 12,
     "metadata": {},
     "output_type": "execute_result"
    },
    {
     "data": {
      "image/png": "[encoded data removed]",
      "text/plain": [
       "<Figure size 432x288 with 1 Axes>"
      ]
     },
     "metadata": {
      "needs_background": "light"
     },
     "output_type": "display_data"
    }
   ],
   "source": [
    "# Hmmmm... that's not very interesting or usable. \n",
    "# 180 values is just too many, and the range of sale prices is also too broad.\n",
    "sales_and_zip = sales_df[['ZIP CODE', 'SALE PRICE']]\n",
    "\n",
    "sales_grouped_by_zip = sales_and_zip.groupby(['ZIP CODE']).mean()\n",
    "\n",
    "# Now, lets sort it by average sale price and just display the top 15\n",
    "sorted_sales_by_zip = sales_grouped_by_zip.sort_values(by=['SALE PRICE'], ascending=False)\n",
    "top_15 = sorted_sales_by_zip[0:15]\n",
    "top_15.plot.bar()\n",
    "\n",
    "# Fun fact, the 10167 zip code is ONE CITY BLOCK on Park Ave.\n",
    "  # (https://www.zip-codes.com/zip-code/10167/zip-code-10167.asp)\n",
    "  # https://en.wikipedia.org/wiki/245_Park_Avenue  "
   ]
  },
  {
   "cell_type": "code",
   "execution_count": 13,
   "metadata": {},
   "outputs": [
    {
     "data": {
      "text/plain": [
       "<AxesSubplot:xlabel='ZIP CODE'>"
      ]
     },
     "execution_count": 13,
     "metadata": {},
     "output_type": "execute_result"
    },
    {
     "data": {
      "image/png": "[encoded data removed]",
      "text/plain": [
       "<Figure size 432x288 with 1 Axes>"
      ]
     },
     "metadata": {
      "needs_background": "light"
     },
     "output_type": "display_data"
    }
   ],
   "source": [
    "# Okay, one more, lets leave out the 245 Park Street sale \n",
    "# and look at the next top 15 zips to get a better picture overall:\n",
    "sorted_sales_by_zip[1:16].plot.bar()"
   ]
  },
  {
   "cell_type": "code",
   "execution_count": 14,
   "metadata": {},
   "outputs": [
    {
     "data": {
      "text/plain": [
       "<AxesSubplot:xlabel='GROSS SQUARE FEET', ylabel='SALE PRICE'>"
      ]
     },
     "execution_count": 14,
     "metadata": {},
     "output_type": "execute_result"
    },
    {
     "data": {
      "image/png": "[encoded data removed]",
      "text/plain": [
       "<Figure size 432x288 with 1 Axes>"
      ]
     },
     "metadata": {
      "needs_background": "light"
     },
     "output_type": "display_data"
    }
   ],
   "source": [
    "# Finally, A scatterplot showing the sales price by the gross square feet. \n",
    "sales_df.plot.scatter(x='GROSS SQUARE FEET', y='SALE PRICE')"
   ]
  }
 ],
 "metadata": {
  "kernelspec": {
   "display_name": "Python 3 (ipykernel)",
   "language": "python",
   "name": "python3"
  },
  "language_info": {
   "codemirror_mode": {
    "name": "ipython",
    "version": 3
   },
   "file_extension": ".py",
   "mimetype": "text/x-python",
   "name": "python",
   "nbconvert_exporter": "python",
   "pygments_lexer": "ipython3",
   "version": "3.10.0"
  }
 },
 "nbformat": 4,
 "nbformat_minor": 4
}
